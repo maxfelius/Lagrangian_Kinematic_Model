{
 "cells": [
  {
   "cell_type": "markdown",
   "metadata": {},
   "source": [
    "# Minimal Detectable Deformation\n",
    "\n",
    "@author: Max Felius\n",
    "\n",
    "## Research Question\n",
    "\"How will the detection probability develop over time with increasing temporal data and using different test statistics?\"\n",
    "\n",
    "## Methodology\n",
    "- Simulated data is used. The parameters of the wink 2016 sinkhole are used together with random uniformly distributed noise with $\\mu=0$ and $\\sigma=3$ mm. \n",
    "- Every new epoch is used to fit an influence function in order to retrieve the parameters again.\n",
    "- At each epoch, different test statistics are used in order to measure the probability of detection\n",
    "- The different test statistics are:\n",
    "    - F-test\n",
    "    - R-squared\n",
    "    - p-value\n",
    "    - Overall Model Test\n",
    "    - Root Mean Square Error"
   ]
  },
  {
   "cell_type": "code",
   "execution_count": 1,
   "metadata": {},
   "outputs": [],
   "source": [
    "#imports \n",
    "import numpy as np\n",
    "import pandas as pd\n",
    "import matplotlib.pyplot as plt\n",
    "import sys, os, time\n",
    "from tqdm import tqdm\n",
    "import random\n",
    "import beepy\n",
    "\n",
    "#import package - NOT GONNA USE THIS\n",
    "# sys.path.extend(os.path.join(os.getcwd(),'Point_Geometry_Package'))\n",
    "\n",
    "# from Point_Geometry_Package.get_random_subsamples import get_random_subsamples\n",
    "# from Point_Geometry_Package.simulate_sinkhole_parameter_retrieval import simulate_sinkhole_parameter_retrieval"
   ]
  },
  {
   "cell_type": "code",
   "execution_count": 2,
   "metadata": {},
   "outputs": [],
   "source": [
    "n = 60 #days\n",
    "v_wink2016_gaus = 0.00031316308355901993 #m/day\n",
    "R_wink2016_gaus = 553.0609564207193 #m\n",
    "delta_days_new = np.array([0, 12, 24, 36, 48, 60, 72, 96, 108, 120, 132])\n",
    "# delta_days_new = np.array([x for x in range(n)])\n",
    "\n",
    "samples = 10\n",
    "r = np.linspace(1,R_wink2016_gaus,samples)"
   ]
  },
  {
   "cell_type": "code",
   "execution_count": 3,
   "metadata": {},
   "outputs": [],
   "source": [
    "def zg(R,r):\n",
    "    return np.exp(-np.pi*(r**2/R**2))\n",
    "\n",
    "def subsidence(r,R_wink2016_gaus,v_wink2016_gaus,step):\n",
    "    #Subsidence subsamples\n",
    "    #Setting the noise level, std of 3 mm\n",
    "    mu = 0 \n",
    "    sigma = 0.003 #[m]\n",
    "    noise = np.random.normal(mu, sigma, len(r))\n",
    "\n",
    "    z_subsidence = noise+step*v_wink2016_gaus*zg(R_wink2016_gaus,r) #[m]\n",
    "    \n",
    "    return z_subsidence"
   ]
  },
  {
   "cell_type": "code",
   "execution_count": 4,
   "metadata": {},
   "outputs": [],
   "source": [
    "#defining the inverse model for case 1 and 2\n",
    "def case_inverse_kinematic_model(v,t,R,r,y):\n",
    "    '''\n",
    "    Non-Linear Least Squares for determining kinematic model parameters\n",
    "    \n",
    "    Input:\n",
    "    :type v: int\n",
    "    :type t: np.array(float)\n",
    "    :type R: int\n",
    "    :type r: np.array(float)\n",
    "    :type y: np.array(float)\n",
    "    \n",
    "    Output\n",
    "    :rtype R: int\n",
    "    :rtype v: int\n",
    "    '''\n",
    "    #maximum number of runs\n",
    "    n = 10000\n",
    "    \n",
    "    #initial values\n",
    "    Qyy = np.eye(len(r))*0.003\n",
    "    invQyy = np.linalg.inv(Qyy)\n",
    "    \n",
    "    #start the timer\n",
    "    start = time.time()\n",
    "    \n",
    "    for i in range(n):\n",
    "        #expected deformation\n",
    "        yhat = v*t*zg(R,r)\n",
    "        \n",
    "        #compute the difference in measured and computed subsidence\n",
    "        dy = y - yhat\n",
    "        \n",
    "        #defining the jacobian matrix\n",
    "        A1 = t*zg(R,r)\n",
    "        A2 = ((2*v*t*np.pi*r**2)/(R**3))*zg(R,r)\n",
    "        # A2 = ((2*R**2 + 2*np.pi*r**2)/(R**3))*(v*t)*zg(R,r)\n",
    "           \n",
    "        J = np.array([A1,A2]).T\n",
    "        \n",
    "        cond_number = np.linalg.cond(J)\n",
    "        \n",
    "        Qxhat = np.linalg.inv(J.T @ invQyy @ J)\n",
    "        dx = Qxhat @ J.T @ invQyy @ dy\n",
    "        \n",
    "        v_old = v\n",
    "        R_old = R\n",
    "        v = v + dx[0]\n",
    "        R = R + dx[1]\n",
    "        \n",
    "        dx_hat = np.array([v_old-v,R_old-R]).T\n",
    "        \n",
    "        if dx_hat.T @ Qxhat @ dx_hat < sys.float_info.epsilon:\n",
    "#             print(f'Stopped at iteration {i+1}.\\nThe computed values are v={v} and R={R}.')\n",
    "            break\n",
    "    \n",
    "#     if i == n-1:\n",
    "#         print(f'Ended using the maximum number of iterations: {n}.\\nThe computed values are v={v} and R={R}.')\n",
    "#     \n",
    "#     print(f'The total runtime was: {time.time()-start} seconds.')\n",
    "    \n",
    "    ehat = yhat - y\n",
    "    \n",
    "    return ehat, y, cond_number, v , R"
   ]
  },
  {
   "cell_type": "code",
   "execution_count": 8,
   "metadata": {
    "scrolled": false
   },
   "outputs": [
    {
     "name": "stderr",
     "output_type": "stream",
     "text": [
      "Looping: 100%|██████████| 11/11 [00:00<00:00, 41.65it/s]\n"
     ]
    }
   ],
   "source": [
    "r_array = np.array([])\n",
    "t_array = np.array([])\n",
    "z_array = np.array([])\n",
    "\n",
    "fitsave = []\n",
    "cond_numb_save = []\n",
    "v_save = []\n",
    "R_save = []\n",
    "T_save = []\n",
    "\n",
    "for i in tqdm(range(len(delta_days_new)),'Looping'):   \n",
    "    step = delta_days_new[i]\n",
    "    z = subsidence(r,R_wink2016_gaus,v_wink2016_gaus,step)   \n",
    "    t_array = np.concatenate((t_array,np.array([step]*samples)))\n",
    "    r_array = np.concatenate((r_array,r))\n",
    "    z_array = np.concatenate((z_array,z))\n",
    "    \n",
    "    try:\n",
    "        ehat, y, cond_number,v_out, R_out = case_inverse_kinematic_model(1,t_array,500,r_array,z_array)\n",
    "        fit = 100*(1-(np.sum(abs(ehat))/np.sum(abs(y))))\n",
    "    except:\n",
    "        fit = 0\n",
    "        cond_number = np.nan\n",
    "        v_out = np.nan\n",
    "        R_out = np.nan\n",
    "        ehat = np.zeros((len(r_array)))\n",
    "        \n",
    "    invQyy = np.linalg.inv(np.eye(len(r_array))*0.0003)\n",
    "    T_save.append(ehat @ invQyy @ ehat)    \n",
    "    fitsave.append(fit)\n",
    "    cond_numb_save.append(cond_number)\n",
    "    v_save.append(v_out)\n",
    "    R_save.append(R_out)\n",
    "\n",
    "beepy.beep(sound='coin')\n",
    "    "
   ]
  },
  {
   "cell_type": "code",
   "execution_count": 6,
   "metadata": {},
   "outputs": [
    {
     "data": {
      "text/plain": [
       "655.9984896822152"
      ]
     },
     "execution_count": 6,
     "metadata": {},
     "output_type": "execute_result"
    }
   ],
   "source": [
    "from scipy.stats import chi2\n",
    "\n",
    "p = 0.05\n",
    "df = 2#len(r_array)-2\n",
    "\n",
    "# chi2.isf(p, df)\n",
    "\n",
    "alpha = 0.05\n",
    "N = 600\n",
    "\n",
    "chi2.ppf(1-alpha,N-2)"
   ]
  },
  {
   "cell_type": "code",
   "execution_count": 9,
   "metadata": {
    "scrolled": false
   },
   "outputs": [
    {
     "data": {
      "image/png": "[encoded data removed]",
      "text/plain": [
       "<Figure size 432x288 with 1 Axes>"
      ]
     },
     "metadata": {
      "needs_background": "light"
     },
     "output_type": "display_data"
    },
    {
     "data": {
      "image/png": "[encoded data removed]",
      "text/plain": [
       "<Figure size 432x288 with 1 Axes>"
      ]
     },
     "metadata": {
      "needs_background": "light"
     },
     "output_type": "display_data"
    },
    {
     "data": {
      "image/png": "[encoded data removed]",
      "text/plain": [
       "<Figure size 432x288 with 1 Axes>"
      ]
     },
     "metadata": {
      "needs_background": "light"
     },
     "output_type": "display_data"
    },
    {
     "data": {
      "image/png": "[encoded data removed]",
      "text/plain": [
       "<Figure size 432x288 with 1 Axes>"
      ]
     },
     "metadata": {
      "needs_background": "light"
     },
     "output_type": "display_data"
    },
    {
     "data": {
      "image/png": "[encoded data removed]",
      "text/plain": [
       "<Figure size 432x288 with 1 Axes>"
      ]
     },
     "metadata": {
      "needs_background": "light"
     },
     "output_type": "display_data"
    }
   ],
   "source": [
    "plt.figure()\n",
    "plt.title(f'OMT')\n",
    "plt.scatter(delta_days_new,T_save)\n",
    "\n",
    "plt.grid(True)\n",
    "\n",
    "plt.figure()\n",
    "plt.title(f'True v = {v_wink2016_gaus} m/day')\n",
    "plt.scatter(delta_days_new,v_save)\n",
    "plt.grid(True)\n",
    "\n",
    "plt.figure()\n",
    "plt.title(f'True R = {R_wink2016_gaus} m')\n",
    "plt.scatter(delta_days_new,R_save)\n",
    "plt.grid(True)\n",
    "\n",
    "plt.figure()\n",
    "plt.title(f'Plotted Condition Number. Median: {np.median(cond_numb_save)}')\n",
    "plt.scatter(delta_days_new,cond_numb_save)\n",
    "plt.yscale('log')\n",
    "plt.grid(True)\n",
    "\n",
    "\n",
    "plt.figure()\n",
    "plt.scatter(delta_days_new,fitsave)\n",
    "\n",
    "plt.ylabel('Fit percentage')\n",
    "plt.xlabel('Days used')\n",
    "plt.title(f'Number of samples used: {samples}')\n",
    "plt.grid(True);"
   ]
  },
  {
   "cell_type": "markdown",
   "metadata": {},
   "source": [
    "## Conclusions\n",
    "- Longer timespans gives better solutions\n",
    "- "
   ]
  },
  {
   "cell_type": "markdown",
   "metadata": {},
   "source": [
    "## Applying some tests\n",
    "\n",
    "### Overall Model Test\n",
    "\n",
    "$T =\\hat{e}^T Q_{yy}^{-1} \\hat{e}$ "
   ]
  }
 ],
 "metadata": {
  "kernelspec": {
   "display_name": "Python 3",
   "language": "python",
   "name": "python3"
  },
  "language_info": {
   "codemirror_mode": {
    "name": "ipython",
    "version": 3
   },
   "file_extension": ".py",
   "mimetype": "text/x-python",
   "name": "python",
   "nbconvert_exporter": "python",
   "pygments_lexer": "ipython3",
   "version": "3.8.5"
  }
 },
 "nbformat": 4,
 "nbformat_minor": 4
}
