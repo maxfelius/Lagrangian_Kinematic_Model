{
 "cells": [
  {
   "cell_type": "markdown",
   "metadata": {},
   "source": [
    "# Test NB for minimum detectable deformation\n",
    "@author: Max Felius\n"
   ]
  },
  {
   "cell_type": "code",
   "execution_count": 1,
   "metadata": {},
   "outputs": [],
   "source": [
    "#imports \n",
    "import numpy as np\n",
    "import pandas as pd\n",
    "import matplotlib.pyplot as plt\n",
    "import sys, os, time\n",
    "from tqdm import tqdm\n",
    "import random\n",
    "import beepy\n",
    "from decouple import config\n",
    "import datetime\n",
    "import re"
   ]
  },
  {
   "cell_type": "code",
   "execution_count": 2,
   "metadata": {},
   "outputs": [],
   "source": [
    "def zg(R,r):\n",
    "    return -np.exp(-np.pi*(r**2/R**2))"
   ]
  },
  {
   "cell_type": "code",
   "execution_count": 3,
   "metadata": {},
   "outputs": [],
   "source": [
    "#defining the inverse model for case 1 and 2\n",
    "def case_inverse_kinematic_model(v,t,R,r,y):\n",
    "    '''\n",
    "    Non-Linear Least Squares for determining kinematic model parameters\n",
    "    \n",
    "    Input:\n",
    "    :type v: int\n",
    "    :type t: np.array(float)\n",
    "    :type R: int\n",
    "    :type r: np.array(float)\n",
    "    :type y: np.array(float)\n",
    "    \n",
    "    Output\n",
    "    :rtype R: int\n",
    "    :rtype v: int\n",
    "    '''\n",
    "    #maximum number of runs\n",
    "    n = 10000\n",
    "    \n",
    "    #initial values\n",
    "    Qyy = np.eye(len(r))\n",
    "    invQyy = np.linalg.inv(Qyy)\n",
    "    \n",
    "    #start the timer\n",
    "    start = time.time()\n",
    "    \n",
    "    for i in range(n):\n",
    "        #expected deformation\n",
    "        yhat = v*t*zg(R,r)\n",
    "        \n",
    "        #compute the difference in measured and computed subsidence\n",
    "        dy = y - yhat\n",
    "        \n",
    "        #defining the jacobian matrix\n",
    "        A1 = t*zg(R,r)\n",
    "        A2 = ((2*v*t*np.pi*r**2)/(R**3))*zg(R,r)\n",
    "        # A2 = ((2*R**2 + 2*np.pi*r**2)/(R**3))*(v*t)*zg(R,r)\n",
    "           \n",
    "        J = np.array([A1,A2]).T\n",
    "        \n",
    "        cond_number = np.linalg.cond(J)\n",
    "        \n",
    "        Qxhat = np.linalg.inv(J.T @ invQyy @ J)\n",
    "        dx = Qxhat @ J.T @ invQyy @ dy\n",
    "        \n",
    "        v_old = v\n",
    "        R_old = R\n",
    "        v = v + dx[0]\n",
    "        R = R + dx[1]\n",
    "        \n",
    "        dx_hat = np.array([v_old-v,R_old-R]).T\n",
    "        \n",
    "        if dx_hat.T @ Qxhat @ dx_hat < sys.float_info.epsilon:\n",
    "#             print(f'Stopped at iteration {i+1}.\\nThe computed values are v={v} and R={R}.')\n",
    "            break\n",
    "    \n",
    "#     if i == n-1:\n",
    "#         print(f'Ended using the maximum number of iterations: {n}.\\nThe computed values are v={v} and R={R}.')\n",
    "#     \n",
    "#     print(f'The total runtime was: {time.time()-start} seconds.')\n",
    "    \n",
    "    ehat = yhat - y\n",
    "    \n",
    "    return ehat, y, cond_number, v , R"
   ]
  },
  {
   "cell_type": "code",
   "execution_count": 4,
   "metadata": {},
   "outputs": [],
   "source": [
    "# #2016\n",
    "# wink_dir = config('wink2016')\n",
    "# start_date = '20150421' #2016\n",
    "# # sinkhole parameters wink 2019\n",
    "# v_in = 1\n",
    "# R_in = 500\n",
    "# x0 = 480 \n",
    "\n",
    "#2019 -> LOS displacement\n",
    "wink_dir = config('wink2019')\n",
    "start_date = '20151016' #2019\n",
    "#sinkhole parameters wink 2019\n",
    "v_in = 1\n",
    "R_in = 500\n",
    "x0 = 310 \n",
    "\n",
    "start_date_datetime = datetime.datetime.strptime(start_date,'%Y%m%d')\n",
    "date_list = []\n",
    "delta_days = []\n",
    "data_list = []\n",
    "\n",
    "for date in sorted(os.listdir(wink_dir)):\n",
    "    if date.endswith('.csv'):\n",
    "        #get the date from the title\n",
    "        m = re.search(r'\\d{8}',date)\n",
    "        date_conv = datetime.datetime.strptime(m.group(0),'%Y%m%d')\n",
    "        date_list.append(date_conv)\n",
    "\n",
    "        #Determine the number of days since the start date\n",
    "        delta_days.append((date_conv-start_date_datetime).days)\n",
    "\n",
    "        #Read the data from the files\n",
    "        data_list.append(pd.read_csv(os.path.join(wink_dir,date),header=None))       "
   ]
  },
  {
   "cell_type": "code",
   "execution_count": 5,
   "metadata": {
    "scrolled": false
   },
   "outputs": [
    {
     "name": "stderr",
     "output_type": "stream",
     "text": [
      "Looping:  21%|██▏       | 3/14 [00:00<00:01,  6.05it/s]"
     ]
    },
    {
     "name": "stdout",
     "output_type": "stream",
     "text": [
      "Singular matrix at iteration 0.\n"
     ]
    },
    {
     "name": "stderr",
     "output_type": "stream",
     "text": [
      "Looping: 100%|██████████| 14/14 [00:01<00:00,  8.95it/s]\n"
     ]
    }
   ],
   "source": [
    "r_array = np.array([])\n",
    "t_array = np.array([])\n",
    "z_array = np.array([])\n",
    "\n",
    "fitsave = []\n",
    "cond_numb_save = []\n",
    "v_save = []\n",
    "R_save = []\n",
    "\n",
    "for i in tqdm(range(len(delta_days)),'Looping'):   \n",
    "    step = delta_days[i]\n",
    "    z = data_list[i][1].values\n",
    "    r = np.sqrt((data_list[i][0].values-x0)**2)\n",
    "    t_array = np.concatenate((t_array,np.array([step]*len(z))))\n",
    "    r_array = np.concatenate((r_array,r))\n",
    "    z_array = np.concatenate((z_array,z))\n",
    "    \n",
    "    try:\n",
    "        ehat, y, cond_number,v_out, R_out = case_inverse_kinematic_model(v_in,t_array,R_in,r_array,z_array)\n",
    "        fit = 100*(1-(np.sum(abs(ehat))/np.sum(abs(y))))\n",
    "    except Exception as e:\n",
    "            print(e, f'at iteration {i}.')\n",
    "            fit = 0\n",
    "            cond_number = np.nan\n",
    "            v_out = np.nan\n",
    "            R_out = np.nan\n",
    "            ehat = np.zeros((len(r_array)))\n",
    "\n",
    "        \n",
    "    fitsave.append(fit)\n",
    "    cond_numb_save.append(cond_number)\n",
    "    v_save.append(v_out)\n",
    "    R_save.append(R_out)\n",
    "\n",
    "beepy.beep(sound='coin')"
   ]
  },
  {
   "cell_type": "code",
   "execution_count": 6,
   "metadata": {},
   "outputs": [
    {
     "data": {
      "image/png": "[encoded data removed]",
      "text/plain": [
       "<Figure size 432x288 with 1 Axes>"
      ]
     },
     "metadata": {
      "needs_background": "light"
     },
     "output_type": "display_data"
    },
    {
     "data": {
      "image/png": "[encoded data removed]",
      "text/plain": [
       "<Figure size 432x288 with 1 Axes>"
      ]
     },
     "metadata": {
      "needs_background": "light"
     },
     "output_type": "display_data"
    },
    {
     "data": {
      "image/png": "[encoded data removed]",
      "text/plain": [
       "<Figure size 432x288 with 1 Axes>"
      ]
     },
     "metadata": {
      "needs_background": "light"
     },
     "output_type": "display_data"
    },
    {
     "data": {
      "image/png": "[encoded data removed]",
      "text/plain": [
       "<Figure size 432x288 with 1 Axes>"
      ]
     },
     "metadata": {
      "needs_background": "light"
     },
     "output_type": "display_data"
    }
   ],
   "source": [
    "plt.figure()\n",
    "plt.title('Final v = {:.02f} m/day'.format(v_save[-1]))\n",
    "plt.scatter(delta_days,v_save)\n",
    "plt.ylabel('Scaling Factor [m/day]')\n",
    "plt.xlabel('Number of days')\n",
    "plt.xlim([0,delta_days[-1]])\n",
    "plt.grid(True)\n",
    "\n",
    "plt.figure()\n",
    "plt.title('Final R = {:.02f} m'.format(R_save[-1]))\n",
    "plt.scatter(delta_days,R_save)\n",
    "plt.ylabel('Radius of Influence [m]')\n",
    "plt.xlabel('Number of days')\n",
    "plt.xlim([0,delta_days[-1]])\n",
    "plt.grid(True)\n",
    "\n",
    "plt.figure()\n",
    "plt.scatter(delta_days,cond_numb_save)\n",
    "plt.title('Plotted Condition Number. Median: {:.0f}'.format(np.median(cond_numb_save[1:])))\n",
    "plt.yscale('log')\n",
    "plt.ylabel('Condition Number')\n",
    "plt.xlabel('Number of days')\n",
    "plt.xlim([0,delta_days[-1]])\n",
    "plt.grid(True)\n",
    "\n",
    "\n",
    "plt.figure()\n",
    "plt.scatter(delta_days,fitsave)\n",
    "plt.ylabel('Fit percentage [%]')\n",
    "plt.xlabel('Number of days')\n",
    "plt.title('Final fit percentage: {:.02f}%'.format(fitsave[-1]))\n",
    "plt.xlim([0,delta_days[-1]])\n",
    "plt.grid(True);"
   ]
  },
  {
   "cell_type": "code",
   "execution_count": 11,
   "metadata": {},
   "outputs": [],
   "source": [
    "n = 15 #days\n",
    "v_wink2016_gaus = 0.00031316308355901993 #m/day\n",
    "R_wink2016_gaus = 553.0609564207193 #m\n",
    "# delta_days_new = np.array([0, 12, 24, 36, 48, 60, 72, 96, 108, 120, 132])\n",
    "delta_days_new = np.array([12*x for x in range(n)])\n",
    "\n",
    "samples = 15\n",
    "r = np.linspace(1,R_wink2016_gaus,samples)"
   ]
  },
  {
   "cell_type": "code",
   "execution_count": 12,
   "metadata": {},
   "outputs": [],
   "source": [
    "def zg(R,r):\n",
    "    return np.exp(-np.pi*(r**2/R**2))\n",
    "\n",
    "def subsidence(r,R_wink2016_gaus,v_wink2016_gaus,step):\n",
    "    #Subsidence subsamples\n",
    "    #Setting the noise level, std of 3 mm\n",
    "    mu = 0 \n",
    "    sigma = 0.003 #[m]\n",
    "    noise = np.random.normal(mu, sigma, len(r))\n",
    "    if step < 48:\n",
    "        z_subsidence = noise\n",
    "        print(step,'Noise only')\n",
    "    else:\n",
    "        z_subsidence = noise+((step/12)-3)*v_wink2016_gaus*zg(R_wink2016_gaus,r) #[m]\n",
    "        print(step,'Noise+signal')\n",
    "    \n",
    "    return z_subsidence"
   ]
  },
  {
   "cell_type": "code",
   "execution_count": 13,
   "metadata": {},
   "outputs": [
    {
     "name": "stderr",
     "output_type": "stream",
     "text": [
      "Looping:  20%|██        | 3/15 [00:00<00:00, 25.01it/s]<ipython-input-3-c5d68bad7d65>:53: RuntimeWarning: overflow encountered in matmul\n",
      "  if dx_hat.T @ Qxhat @ dx_hat < sys.float_info.epsilon:\n",
      "<ipython-input-3-c5d68bad7d65>:36: RuntimeWarning: overflow encountered in double_scalars\n",
      "  A2 = ((2*v*t*np.pi*r**2)/(R**3))*zg(R,r)\n"
     ]
    },
    {
     "name": "stdout",
     "output_type": "stream",
     "text": [
      "0 Noise only\n",
      "Singular matrix at iteration 0.\n",
      "12 Noise only\n",
      "24 Noise only\n",
      "36 Noise only\n",
      "Singular matrix at iteration 3.\n",
      "48 Noise+signal\n",
      "Singular matrix at iteration 4.\n",
      "60 Noise+signal\n",
      "Singular matrix at iteration 5.\n",
      "72 Noise+signal\n",
      "84 Noise+signal\n",
      "96 Noise+signal\n"
     ]
    },
    {
     "name": "stderr",
     "output_type": "stream",
     "text": [
      "\r",
      "Looping:  60%|██████    | 9/15 [00:00<00:00, 29.50it/s]"
     ]
    },
    {
     "name": "stdout",
     "output_type": "stream",
     "text": [
      "108 Noise+signal\n"
     ]
    },
    {
     "name": "stderr",
     "output_type": "stream",
     "text": [
      "Looping: 100%|██████████| 15/15 [00:04<00:00,  3.15it/s]"
     ]
    },
    {
     "name": "stdout",
     "output_type": "stream",
     "text": [
      "120 Noise+signal\n",
      "132 Noise+signal\n",
      "144 Noise+signal\n",
      "156 Noise+signal\n",
      "168 Noise+signal\n"
     ]
    },
    {
     "name": "stderr",
     "output_type": "stream",
     "text": [
      "\n"
     ]
    }
   ],
   "source": [
    "r_array = np.array([])\n",
    "t_array = np.array([])\n",
    "z_array = np.array([])\n",
    "\n",
    "fitsave = []\n",
    "cond_numb_save = []\n",
    "v_save = []\n",
    "R_save = []\n",
    "\n",
    "for i in tqdm(range(len(delta_days_new)),'Looping'):   \n",
    "    step = delta_days_new[i]\n",
    "    z = subsidence(r,R_wink2016_gaus,v_wink2016_gaus,step)   \n",
    "    t_array = np.concatenate((t_array,np.array([step]*samples)))\n",
    "    r_array = np.concatenate((r_array,r))\n",
    "    z_array = np.concatenate((z_array,z))\n",
    "    \n",
    "    try:\n",
    "        ehat, y, cond_number,v_out, R_out = case_inverse_kinematic_model(1,t_array,500,r_array,z_array)\n",
    "        fit = 100*(1-(np.sum(abs(ehat))/np.sum(abs(y))))\n",
    "    except Exception as e:\n",
    "        print(e, f'at iteration {i}.')\n",
    "        fit = 0\n",
    "        cond_number = np.nan\n",
    "        v_out = np.nan\n",
    "        R_out = np.nan\n",
    "        ehat = np.zeros((len(r_array)))\n",
    "         \n",
    "    fitsave.append(fit)\n",
    "    cond_numb_save.append(cond_number)\n",
    "    v_save.append(v_out)\n",
    "    R_save.append(R_out)\n",
    "\n",
    "beepy.beep(sound='coin')"
   ]
  },
  {
   "cell_type": "code",
   "execution_count": 15,
   "metadata": {},
   "outputs": [
    {
     "data": {
      "image/png": "[encoded data removed]",
      "text/plain": [
       "<Figure size 432x288 with 1 Axes>"
      ]
     },
     "metadata": {
      "needs_background": "light"
     },
     "output_type": "display_data"
    },
    {
     "data": {
      "image/png": "[encoded data removed]",
      "text/plain": [
       "<Figure size 432x288 with 1 Axes>"
      ]
     },
     "metadata": {
      "needs_background": "light"
     },
     "output_type": "display_data"
    },
    {
     "data": {
      "image/png": "[encoded data removed]",
      "text/plain": [
       "<Figure size 432x288 with 1 Axes>"
      ]
     },
     "metadata": {
      "needs_background": "light"
     },
     "output_type": "display_data"
    },
    {
     "data": {
      "image/png": "[encoded data removed]",
      "text/plain": [
       "<Figure size 432x288 with 1 Axes>"
      ]
     },
     "metadata": {
      "needs_background": "light"
     },
     "output_type": "display_data"
    }
   ],
   "source": [
    "plt.figure()\n",
    "plt.title('Final v = {:.02f} m/day'.format(v_save[-1]))\n",
    "plt.scatter(delta_days_new,v_save)\n",
    "plt.scatter(48,v_save[np.where(delta_days_new==48)[0][0]],label='t0')\n",
    "plt.ylabel('Scaling Factor [m/day]')\n",
    "plt.xlabel('Number of days')\n",
    "plt.xlim([0,delta_days[-1]])\n",
    "plt.legend()\n",
    "plt.grid(True)\n",
    "\n",
    "plt.figure()\n",
    "plt.title('Final R = {:.02f} m'.format(R_save[-1]))\n",
    "plt.scatter(delta_days_new,R_save)\n",
    "plt.scatter(48,R_save[np.where(delta_days_new==48)[0][0]],label='t0')\n",
    "plt.ylabel('Radius of Influence [m]')\n",
    "plt.xlabel('Number of days')\n",
    "plt.xlim([0,delta_days[-1]])\n",
    "plt.legend()\n",
    "plt.grid(True)\n",
    "\n",
    "plt.figure()\n",
    "plt.scatter(delta_days_new,cond_numb_save)\n",
    "plt.scatter(48,cond_numb_save[np.where(delta_days_new==48)[0][0]],label='t0')\n",
    "plt.title('Plotted Condition Number. Median: {:.0f}'.format(np.median(cond_numb_save[1:])))\n",
    "plt.yscale('log')\n",
    "plt.ylabel('Condition Number')\n",
    "plt.xlabel('Number of days')\n",
    "plt.xlim([0,delta_days[-1]])\n",
    "plt.legend()\n",
    "plt.grid(True)\n",
    "\n",
    "\n",
    "plt.figure()\n",
    "plt.scatter(delta_days_new,fitsave)\n",
    "plt.scatter(48,fitsave[np.where(delta_days_new==48)[0][0]],label='t0')\n",
    "plt.ylabel('Fit percentage [%]')\n",
    "plt.xlabel('Number of days')\n",
    "plt.title('Final fit percentage: {:.02f}%'.format(fitsave[-1]))\n",
    "plt.xlim([0,delta_days[-1]])\n",
    "plt.legend()\n",
    "plt.grid(True);"
   ]
  },
  {
   "cell_type": "code",
   "execution_count": null,
   "metadata": {},
   "outputs": [],
   "source": []
  },
  {
   "cell_type": "code",
   "execution_count": null,
   "metadata": {},
   "outputs": [],
   "source": []
  }
 ],
 "metadata": {
  "kernelspec": {
   "display_name": "Python 3",
   "language": "python",
   "name": "python3"
  },
  "language_info": {
   "codemirror_mode": {
    "name": "ipython",
    "version": 3
   },
   "file_extension": ".py",
   "mimetype": "text/x-python",
   "name": "python",
   "nbconvert_exporter": "python",
   "pygments_lexer": "ipython3",
   "version": "3.8.5"
  }
 },
 "nbformat": 4,
 "nbformat_minor": 4
}
