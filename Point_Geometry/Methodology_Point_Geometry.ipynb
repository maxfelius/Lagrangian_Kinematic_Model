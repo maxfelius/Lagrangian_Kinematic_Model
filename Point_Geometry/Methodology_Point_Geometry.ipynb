{
 "cells": [
  {
   "cell_type": "markdown",
   "metadata": {},
   "source": [
    "# Geometric Positioning of InSAR Points\n",
    "\n",
    "@author: Max Felius\n",
    "\n",
    "## Hypothesis\n",
    "The retrieval of sinkhole parameters can be improved by a better spreading of the measurement points.\n",
    "- A better spreading of points will lead to a lower conditional number of the design matrix.\n",
    "- A better spreading will lead to a higher fitting percentage and a lower RMSE.\n",
    "\n",
    "## Predictions (better articulate this part...)\n",
    "- Higher fit will be accompanied with a lower conditional number (well-conditioned vs ill-conditioned).\n",
    "- Less points will provide a worse fit.\n",
    "- Points on a line or spread out on a 2D plane won't affect the fit and conditional number.\n",
    "- The further the points away from the center, the worse the fit will be.\n",
    "- Very heterogenous points will provide a worse fit\n",
    "- The more points with the same radius will give worse fit\n",
    "\n",
    "## Design the experiment\n",
    "- Define sinkhole using kinematic model\n",
    "- Define inverse model to retrieve parameters\n",
    "- Define tool to create point samples\n",
    "- Generate seperate cases for each prediction and answer that prediction"
   ]
  },
  {
   "cell_type": "code",
   "execution_count": 1,
   "metadata": {},
   "outputs": [],
   "source": [
    "#imports\n",
    "import numpy as np\n",
    "import matplotlib.pyplot as plt\n",
    "import random\n",
    "import os,sys,time"
   ]
  },
  {
   "cell_type": "code",
   "execution_count": 173,
   "metadata": {
    "scrolled": false
   },
   "outputs": [
    {
     "data": {
      "text/plain": [
       "3.305785123966942e-06"
      ]
     },
     "execution_count": 173,
     "metadata": {},
     "output_type": "execute_result"
    }
   ],
   "source": [
    "# random.uniform(0, 1)\n",
    "# nums = np.random.uniform(0, 1, size=1000)\n",
    "# 1/550**2"
   ]
  },
  {
   "cell_type": "code",
   "execution_count": 315,
   "metadata": {},
   "outputs": [],
   "source": [
    "#kinematic model \n",
    "#automatically introduce some noise into the system\n",
    "def zg(R,r):\n",
    "    return (1/(R*R))*np.exp(-np.pi*(r**2/R**2))\n",
    "def zg_nois(R,r):\n",
    "    noise_tune = 0.5\n",
    "    return (1/(R*R))*np.exp(-np.pi*(r**2/R**2)) + (noise_tune*(1/(R*R))*np.random.uniform(0,1,size=len(r)))"
   ]
  },
  {
   "cell_type": "code",
   "execution_count": 167,
   "metadata": {},
   "outputs": [
    {
     "name": "stdout",
     "output_type": "stream",
     "text": [
      "[3.30575079e-06 3.30564780e-06 3.30523586e-06 3.30454940e-06\n",
      " 3.30358861e-06 3.30084501e-06 3.23998211e-06 3.10837097e-06\n",
      " 3.05032832e-06 2.98585578e-06 2.18203252e-06 1.29820855e-06\n",
      " 1.72734338e-06 2.46428457e-07 1.42855928e-07]\n"
     ]
    }
   ],
   "source": [
    "# r = np.array([1,2,4,6,8,12,44,77,88,99,200,300,250,500,550])\n",
    "# R = 550\n",
    "\n",
    "# print(zg(R,r))"
   ]
  },
  {
   "cell_type": "code",
   "execution_count": 186,
   "metadata": {},
   "outputs": [],
   "source": [
    "#defining the inverse model\n",
    "def inverse_kinematic_model(v,t,R,r,y):\n",
    "    '''\n",
    "    Non-Linear Least Squares for determining kinematic model parameters\n",
    "    \n",
    "    Input:\n",
    "    :type v: int\n",
    "    :type t: np.array(float)\n",
    "    :type R: int\n",
    "    :type r: np.array(float)\n",
    "    :type y: np.array(float)\n",
    "    \n",
    "    Output\n",
    "    :rtype R: int\n",
    "    :rtype v: int\n",
    "    '''\n",
    "    #maximum number of runs\n",
    "    n = 10000\n",
    "    \n",
    "    #initial values\n",
    "    Qyy = np.eye(len(r))\n",
    "    invQyy = np.linalg.inv(Qyy)\n",
    "    \n",
    "    #start the timer\n",
    "    start = time.time()\n",
    "    \n",
    "    for i in range(n):\n",
    "        #expected deformation\n",
    "        yhat = v*t*zg(R,r)\n",
    "        \n",
    "        #compute the difference in measured and computed subsidence\n",
    "        dy = y - yhat\n",
    "        \n",
    "        #defining the jacobian matrix\n",
    "        A1 = t*zg(R,r)\n",
    "        A2 = ((2*R**2 + 2*np.pi*r**2)/(R**3))*(v*t)*zg(R,r)\n",
    "           \n",
    "        J = np.array([A1,A2]).T\n",
    "        \n",
    "        cond_number = np.linalg.cond(J)\n",
    "        \n",
    "        Qxhat = np.linalg.inv(J.T @ invQyy @ J)\n",
    "        dx = Qxhat @ J.T @ invQyy @ dy\n",
    "        \n",
    "        v_old = v\n",
    "        R_old = R\n",
    "        v = v + dx[0]\n",
    "        R = R + dx[1]\n",
    "        \n",
    "        dx_hat = np.array([v_old-v,R_old-R]).T\n",
    "        \n",
    "        if dx_hat.T @ Qxhat @ dx_hat < sys.float_info.epsilon:\n",
    "#             print(f'Stopped at iteration {i+1}.\\nThe computed values are v={v} and R={R}.')\n",
    "            break\n",
    "    \n",
    "#     if i == n-1:\n",
    "#         print(f'Ended using the maximum number of iterations: {n}.\\nThe computed values are v={v} and R={R}.')\n",
    "    \n",
    "#     print(f'The total runtime was: {time.time()-start} seconds.')\n",
    "    \n",
    "    return v, R, i, cond_number"
   ]
  },
  {
   "cell_type": "code",
   "execution_count": 32,
   "metadata": {},
   "outputs": [],
   "source": [
    "#Create cell to make point samples\n",
    "#using the sinkhole from wink2016 for generating the point samples\n",
    "v_wink2016_gaus = 95.78920335026163\n",
    "R_wink2016_gaus = 553.0609564207195\n",
    "delta_days = np.array([0, 12, 24, 36, 48, 60, 72, 96, 108, 120, 132])\n",
    "\n",
    "#coordinates\n",
    "x0 = 25\n",
    "y0 = 25\n",
    "\n",
    "#Define the sinkhole grid\n",
    "n = 100\n",
    "x_range = R_wink2016_gaus\n",
    "y_range = R_wink2016_gaus\n",
    "x = np.linspace(x0-x_range/2,x0+x_range/2,n)\n",
    "y = np.linspace(y0-y_range/2,y0+y_range/2,n)\n",
    "\n",
    "#creat x/y grid\n",
    "xv, yv = np.meshgrid(x,y)\n",
    "\n",
    "#unravel the grids\n",
    "x_unravel = xv.ravel()\n",
    "y_unravel = yv.ravel()"
   ]
  },
  {
   "cell_type": "code",
   "execution_count": 92,
   "metadata": {},
   "outputs": [],
   "source": [
    "'''\n",
    "Example of how to create subsamples\n",
    "'''\n",
    "#example 1\n",
    "def get_random_subsamples(n_sub,x_unravel,y_unravel):\n",
    "# n_sub = 30\n",
    "    idx = random.sample(range(0,len(x_unravel)),int(n_sub))\n",
    "    \n",
    "    #subsampling the arrays\n",
    "    x_sub = x_unravel[idx]\n",
    "    y_sub = y_unravel[idx]\n",
    "    \n",
    "    return x_sub, y_sub"
   ]
  },
  {
   "cell_type": "code",
   "execution_count": 181,
   "metadata": {},
   "outputs": [],
   "source": [
    "def get_subsampled_arrays(x_sub,y_sub,r,delta_days):\n",
    "    #create row arrays for x,y,z containing every epoch\n",
    "    x_array = np.array([])\n",
    "    y_array = np.array([])\n",
    "    z_array = np.array([])\n",
    "    t = np.array([])\n",
    "    r_array = np.array([])\n",
    "\n",
    "    nitems = 0\n",
    "    for step in delta_days:\n",
    "        n = len(x_sub)\n",
    "        x_array = np.concatenate((x_array,x_sub))\n",
    "        y_array = np.concatenate((y_array,y_sub))\n",
    "        z_array = np.concatenate((z_array,step*v_wink2016_gaus*zg_nois(R_wink2016_gaus,r)))\n",
    "        t = np.concatenate((t,[delta_days[nitems]]*n))\n",
    "        r_array = np.concatenate((r_array,r))\n",
    "        nitems += 1\n",
    "    \n",
    "    return x_array, y_array, z_array, t, r_array, nitems"
   ]
  },
  {
   "cell_type": "code",
   "execution_count": 216,
   "metadata": {},
   "outputs": [
    {
     "data": {
      "image/png": "[encoded data removed]",
      "text/plain": [
       "<Figure size 1080x720 with 2 Axes>"
      ]
     },
     "metadata": {
      "needs_background": "light"
     },
     "output_type": "display_data"
    }
   ],
   "source": [
    "n_sub = 40\n",
    "\n",
    "x_sub, y_sub = get_random_subsamples(n_sub,x_unravel,y_unravel)\n",
    "\n",
    "#compute the radius\n",
    "r = np.sqrt((x_sub-x0)**2 + (y_sub-y0)**2)\n",
    "\n",
    "x_array, y_array, z_array, t, r_array, nitems = get_subsampled_arrays(x_sub,y_sub,r,delta_days)\n",
    "\n",
    "fig, axs = plt.subplots(nrows=1,ncols=1, figsize=(15,10))\n",
    "i = 3\n",
    "h = axs.scatter(x_sub,y_sub,c=z_array[i*n_sub:n_sub+i*n_sub],cmap=plt.cm.rainbow)\n",
    "plt.grid(True)\n",
    "fig.colorbar(h);"
   ]
  },
  {
   "cell_type": "code",
   "execution_count": 130,
   "metadata": {},
   "outputs": [],
   "source": [
    "number_subs = [x for x in range(1,100)]\n",
    "\n",
    "#coordinates of center point to be evaluated\n",
    "x0 = 25\n",
    "y0 = 25\n",
    "\n",
    "#Time vector is days\n",
    "delta_days = np.array([0, 12, 24, 36, 48, 60, 72, 96, 108, 120, 132])\n",
    "\n",
    "#save variables\n",
    "cond_saved = []\n",
    "iter_saved = []\n",
    "\n",
    "for n_sub in number_subs:\n",
    "    x_sub, y_sub = get_random_subsamples(n_sub,x_unravel,y_unravel)\n",
    "\n",
    "    #compute the radius\n",
    "    r = np.sqrt((x_sub-x0)**2 + (y_sub-y0)**2)\n",
    "\n",
    "    x_array, y_array, z_array, t, r_array, nitems = get_subsampled_arrays(x_sub,y_sub,r,delta_days)\n",
    "\n",
    "    #initial parameters\n",
    "    R = 500\n",
    "    v = 100\n",
    "    \n",
    "    #catch singular matrices\n",
    "    try:\n",
    "        v, R, i, cond_number = inverse_kinematic_model(v,t,R,r_array,z_array)\n",
    "    except:\n",
    "        cond_number = np.nan\n",
    "        i = np.nan\n",
    "    \n",
    "    #save variables\n",
    "    cond_saved.append(cond_number)\n",
    "    iter_saved.append(i)"
   ]
  },
  {
   "cell_type": "code",
   "execution_count": 131,
   "metadata": {},
   "outputs": [
    {
     "data": {
      "image/png": "[encoded data removed]",
      "text/plain": [
       "<Figure size 720x360 with 1 Axes>"
      ]
     },
     "metadata": {
      "needs_background": "light"
     },
     "output_type": "display_data"
    },
    {
     "data": {
      "image/png": "[encoded data removed]",
      "text/plain": [
       "<Figure size 720x360 with 1 Axes>"
      ]
     },
     "metadata": {
      "needs_background": "light"
     },
     "output_type": "display_data"
    }
   ],
   "source": [
    "plt.figure(figsize=(10,5))\n",
    "plt.plot(number_subs,cond_saved)\n",
    "plt.scatter(number_subs,cond_saved)\n",
    "\n",
    "#mean of the conditional number. SKIPPED THE FIRST ENTRY\n",
    "mean = np.median(cond_saved[1:])\n",
    "\n",
    "plt.title('Random subsampling of the dataset. Median Conditional number: {:.0f}'.format(mean))\n",
    "plt.ylabel('Conditional Number')\n",
    "plt.xlabel('Number of random points used')\n",
    "\n",
    "plt.grid(True);\n",
    "\n",
    "plt.figure(figsize=(10,5))\n",
    "plt.plot(number_subs,iter_saved)\n",
    "\n",
    "plt.ylabel('Number of iterations needed')\n",
    "plt.xlabel('Number of points used')\n",
    "\n",
    "plt.grid(True);"
   ]
  },
  {
   "cell_type": "markdown",
   "metadata": {},
   "source": [
    "## Seperate Cases (Predictions)\n",
    "- Case 1: Higher fit will be accompanied with a lower conditional number (well-conditioned vs ill-conditioned).\n",
    "- Case 2: Less points will provide a worse fit.\n",
    "- Case 3: Points on a line or spread out on a 2D plane won't affect the fit and conditional number.\n",
    "- Case 4: The further the points away from the center, the worse the fit will be.\n",
    "- Case 5: Very heterogenous points will provide a worse fit\n",
    "- Case 6: The more points with the same radius will give worse fit"
   ]
  },
  {
   "cell_type": "markdown",
   "metadata": {},
   "source": [
    "### Case 1\n",
    "\n",
    "Higher model fit will be accompanied with a lower conditional number (well-conditioned vs ill-conditioned).\n",
    "\n",
    "- Define inverse model to retrieve model fit (extract ehat and z data)\n",
    "- Test assumption: More points will increase the model fit"
   ]
  },
  {
   "cell_type": "code",
   "execution_count": 182,
   "metadata": {},
   "outputs": [],
   "source": [
    "#defining the inverse model for case 1 and 2\n",
    "def case_inverse_kinematic_model(v,t,R,r,y):\n",
    "    '''\n",
    "    Non-Linear Least Squares for determining kinematic model parameters\n",
    "    \n",
    "    Input:\n",
    "    :type v: int\n",
    "    :type t: np.array(float)\n",
    "    :type R: int\n",
    "    :type r: np.array(float)\n",
    "    :type y: np.array(float)\n",
    "    \n",
    "    Output\n",
    "    :rtype R: int\n",
    "    :rtype v: int\n",
    "    '''\n",
    "    #maximum number of runs\n",
    "    n = 10000\n",
    "    \n",
    "    #initial values\n",
    "    Qyy = np.eye(len(r))\n",
    "    invQyy = np.linalg.inv(Qyy)\n",
    "    \n",
    "    #start the timer\n",
    "    start = time.time()\n",
    "    \n",
    "    for i in range(n):\n",
    "        #expected deformation\n",
    "        yhat = v*t*zg(R,r)\n",
    "        \n",
    "        #compute the difference in measured and computed subsidence\n",
    "        dy = y - yhat\n",
    "        \n",
    "        #defining the jacobian matrix\n",
    "        A1 = t*zg(R,r)\n",
    "        A2 = ((2*R**2 + 2*np.pi*r**2)/(R**3))*(v*t)*zg(R,r)\n",
    "           \n",
    "        J = np.array([A1,A2]).T\n",
    "        \n",
    "        cond_number = np.linalg.cond(J)\n",
    "        \n",
    "        Qxhat = np.linalg.inv(J.T @ invQyy @ J)\n",
    "        dx = Qxhat @ J.T @ invQyy @ dy\n",
    "        \n",
    "        v_old = v\n",
    "        R_old = R\n",
    "        v = v + dx[0]\n",
    "        R = R + dx[1]\n",
    "        \n",
    "        dx_hat = np.array([v_old-v,R_old-R]).T\n",
    "        \n",
    "        if dx_hat.T @ Qxhat @ dx_hat < sys.float_info.epsilon:\n",
    "#             print(f'Stopped at iteration {i+1}.\\nThe computed values are v={v} and R={R}.')\n",
    "            break\n",
    "    \n",
    "#     if i == n-1:\n",
    "#         print(f'Ended using the maximum number of iterations: {n}.\\nThe computed values are v={v} and R={R}.')\n",
    "    \n",
    "#     print(f'The total runtime was: {time.time()-start} seconds.')\n",
    "    \n",
    "    ehat = yhat - y\n",
    "    \n",
    "    return ehat, y"
   ]
  },
  {
   "cell_type": "code",
   "execution_count": 325,
   "metadata": {},
   "outputs": [
    {
     "data": {
      "image/png": "[encoded data removed]",
      "text/plain": [
       "<Figure size 720x360 with 1 Axes>"
      ]
     },
     "metadata": {
      "needs_background": "light"
     },
     "output_type": "display_data"
    }
   ],
   "source": [
    "number_subs = [x for x in range(1,10)]\n",
    "\n",
    "#coordinates of center point to be evaluated\n",
    "x0 = 25\n",
    "y0 = 25\n",
    "\n",
    "#Time vector is days\n",
    "delta_days = np.array([0, 12, 24, 36, 48, 60, 72, 96, 108, 120, 132])\n",
    "\n",
    "#save variables\n",
    "ehat_saved = []\n",
    "y_saved = []\n",
    "fit_saved = []\n",
    "\n",
    "for n_sub in number_subs:\n",
    "    x_sub, y_sub = get_random_subsamples(n_sub,x_unravel,y_unravel)\n",
    "\n",
    "    #compute the radius\n",
    "    r = np.sqrt((x_sub-x0)**2 + (y_sub-y0)**2)\n",
    "\n",
    "    x_array, y_array, z_array, t, r_array, nitems = get_subsampled_arrays(x_sub,y_sub,r,delta_days)\n",
    "\n",
    "    #initial parameters\n",
    "    R = 500\n",
    "    v = 100\n",
    "    \n",
    "    #catch singular matrices\n",
    "    try:\n",
    "        ehat, y = case_inverse_kinematic_model(v,t,R,r_array,z_array)\n",
    "        \n",
    "        fit = 100*(1-(np.sum(abs(ehat))/np.sum(abs(y))))\n",
    "    except:\n",
    "        ehat = np.nan\n",
    "        y = np.nan\n",
    "        fit = np.nan\n",
    "    \n",
    "    #save variables\n",
    "    ehat_saved.append(ehat)\n",
    "    y_saved.append(y)\n",
    "    fit_saved.append(fit)\n",
    "\n",
    "    \n",
    "#Plot the results\n",
    "plt.figure(figsize=(10,5))\n",
    "plt.plot(number_subs,fit_saved)\n",
    "plt.scatter(number_subs,fit_saved)\n",
    "\n",
    "#mean of the conditional number. SKIPPED THE FIRST ENTRY\n",
    "mean = np.median(fit_saved[1:])\n",
    "\n",
    "plt.title('Random subsampling of the dataset. Median fit percentage: {:.0f}%'.format(mean))\n",
    "plt.ylabel('Fit Percentage [%]')\n",
    "plt.xlabel('Number of random points used')\n",
    "\n",
    "plt.grid(True);\n",
    "\n",
    "# plt.figure(figsize=(10,5))\n",
    "# plt.plot(number_subs,iter_saved)\n",
    "\n",
    "# plt.ylabel('Number of iterations needed')\n",
    "# plt.xlabel('Number of points used')\n",
    "\n",
    "# plt.grid(True);"
   ]
  },
  {
   "cell_type": "markdown",
   "metadata": {},
   "source": [
    "### Case 2\n",
    "\n",
    "Less points will provide a worse fit."
   ]
  },
  {
   "cell_type": "code",
   "execution_count": null,
   "metadata": {},
   "outputs": [],
   "source": []
  },
  {
   "cell_type": "markdown",
   "metadata": {},
   "source": [
    "### Case 3\n",
    "\n",
    "Points on a line or spread out on a 2D plane won't affect the fit and conditional number."
   ]
  },
  {
   "cell_type": "code",
   "execution_count": null,
   "metadata": {},
   "outputs": [],
   "source": []
  },
  {
   "cell_type": "markdown",
   "metadata": {},
   "source": [
    "### Case 4\n",
    "\n",
    "The further the points away from the center, the worse the fit will be."
   ]
  },
  {
   "cell_type": "code",
   "execution_count": null,
   "metadata": {},
   "outputs": [],
   "source": []
  },
  {
   "cell_type": "markdown",
   "metadata": {},
   "source": [
    "### Case 5\n",
    "\n",
    "Very heterogenous points will provide a worse fit."
   ]
  },
  {
   "cell_type": "code",
   "execution_count": null,
   "metadata": {},
   "outputs": [],
   "source": []
  },
  {
   "cell_type": "markdown",
   "metadata": {},
   "source": [
    "### Case 6\n",
    "\n",
    "The more points with the same radius will give worse fit."
   ]
  }
 ],
 "metadata": {
  "kernelspec": {
   "display_name": "Python 3",
   "language": "python",
   "name": "python3"
  },
  "language_info": {
   "codemirror_mode": {
    "name": "ipython",
    "version": 3
   },
   "file_extension": ".py",
   "mimetype": "text/x-python",
   "name": "python",
   "nbconvert_exporter": "python",
   "pygments_lexer": "ipython3",
   "version": "3.9.0"
  }
 },
 "nbformat": 4,
 "nbformat_minor": 4
}
