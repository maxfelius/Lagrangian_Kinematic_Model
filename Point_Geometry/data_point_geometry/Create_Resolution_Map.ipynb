{
 "cells": [
  {
   "cell_type": "markdown",
   "metadata": {},
   "source": [
    "# Example on how to create resolution maps\n",
    "\n",
    "@author: Max Felius\n",
    "\n",
    "This Notebook will show how to combine the different MRSS datasets in order to create a complete point density map."
   ]
  },
  {
   "cell_type": "code",
   "execution_count": 1,
   "metadata": {},
   "outputs": [],
   "source": [
    "#imports\n",
    "import CreateResolutionMap"
   ]
  },
  {
   "cell_type": "markdown",
   "metadata": {},
   "source": [
    "## Select Radarsat-2 dataset\n",
    "\n",
    "First, create a list with the name of the file with the radarsat data."
   ]
  },
  {
   "cell_type": "code",
   "execution_count": 2,
   "metadata": {},
   "outputs": [],
   "source": [
    "dataset = ['test.csv']"
   ]
  },
  {
   "cell_type": "markdown",
   "metadata": {},
   "source": [
    "## Create the resolution map for looking at the point density\n",
    "\n",
    "Map is made using the following procedure.\n",
    "- First the data is read with the use of pandas and appended to eachother in order to make one big data file\n",
    "- The maximum and minimum values of the rijksdriehoek columns (pnt_rdx, pnt_rdy) are taken from the data file\n",
    "- A grid is created using the spacing of 2 times the 'cell_radius' in the x and y direction\n",
    "- Using the rijksdriehoek coordinates (pnt_rdx, pnt_rdy), the KD-Tree is initialized\n",
    "- Per each grid point a subset is created using the KD-Tree. The KD-Tree can only work with search <b>radius</b>, thus here the search radius is defined as $\\sqrt{2} \\cdot cell\\_radius \\cdot 1.01$. This way all points that fall within the search square will be used.\n",
    "- A simple if-statement defines a cell and all the points that fall within this cell are counted.\n",
    "\n"
   ]
  },
  {
   "cell_type": "code",
   "execution_count": 6,
   "metadata": {
    "scrolled": false,
    "tags": []
   },
   "outputs": [
    {
     "name": "stderr",
     "output_type": "stream",
     "text": [
      "100% (1 of 1) |##########################| Elapsed Time: 0:00:00 Time:  0:00:00\n",
      " 18% (22 of 121) |####                   | Elapsed Time: 0:00:00 ETA:   0:00:00"
     ]
    },
    {
     "name": "stdout",
     "output_type": "stream",
     "text": [
      "\n",
      "Started reading the data...\n",
      "\n",
      "Appended test.csv to the dataset\n",
      "Started counting points per cell...\n"
     ]
    },
    {
     "name": "stderr",
     "output_type": "stream",
     "text": [
      "100% (121 of 121) |######################| Elapsed Time: 0:00:00 Time:  0:00:00\n"
     ]
    },
    {
     "name": "stdout",
     "output_type": "stream",
     "text": [
      "Elapsed time is 0.31374478340148926 seconds...\n"
     ]
    }
   ],
   "source": [
    "#cell radius is the distance between the center of the square to the edge. Resolution is 2*cell_radius\n",
    "cell_radius = 100\n",
    "\n",
    "#creating the data object\n",
    "dataset_obj = CreateResolutionMap.create_resolution_map(dataset,cell_radius,use_intermediate_results=False)\n",
    "\n",
    "#start creating the map\n",
    "data = dataset_obj.start()\n",
    "\n",
    "#save the dataset\n",
    "data.to_csv('Point_Density_Map_RSAT2_30x30m.csv')"
   ]
  },
  {
   "cell_type": "markdown",
   "metadata": {},
   "source": [
    "## Select Sentinel-1 Dataset\n",
    "\n",
    "Select the sentinel-1 dataset by filling in the filename in the list. The cell below will immediately compute and save the new density map. "
   ]
  },
  {
   "cell_type": "code",
   "execution_count": null,
   "metadata": {},
   "outputs": [],
   "source": [
    "dataset = ['s1_subset_asc_r1000m.csv']\n",
    "\n",
    "#cell radius is the distance between the center of the square to the edge. Resolution is 2*cell_radius\n",
    "cell_radius = 15\n",
    "\n",
    "#creating the data object\n",
    "dataset_obj = CreateResolutionMap.create_resolution_map(dataset,cell_radius,use_intermediate_results=False)\n",
    "\n",
    "#start creating the map\n",
    "data = dataset_obj.start()\n",
    "\n",
    "#save the dataset\n",
    "data.to_csv('Point_Density_Map_S1_30x30m.csv')"
   ]
  },
  {
   "cell_type": "markdown",
   "metadata": {},
   "source": [
    "## Select Multiple Datasets and Create a Density Map\n",
    "\n",
    "In the cell below multiple datasets are combined. After the datasets are combined, the result is saved. If something goes wrong with creating the point density map then there is no need to combine the datasets again and you only have to read the combined dataset."
   ]
  },
  {
   "cell_type": "code",
   "execution_count": null,
   "metadata": {},
   "outputs": [],
   "source": [
    "dataset = ['rsat2_subset_asc_r1000m.csv',\n",
    "           's1_subset_asc_r1000m.csv']\n",
    "\n",
    "#cell radius is the distance between the center of the square to the edge. Resolution is 2*cell_radius\n",
    "cell_radius = 15\n",
    "\n",
    "#save the combined dataset to a csv file\n",
    "use_intermediate_results=True\n",
    "filename_inter_data='combined_points.csv' #filename of combined dataset\n",
    "\n",
    "#creating the data object\n",
    "dataset_obj = CreateResolutionMap.create_resolution_map(dataset,cell_radius,filename_inter_data,use_intermediate_results)\n",
    "\n",
    "#start creating the map\n",
    "data = dataset_obj.start()\n",
    "\n",
    "#save the dataset\n",
    "data.to_csv('Point_Density_Map_Combined_30x30m.csv')"
   ]
  }
 ],
 "metadata": {
  "kernelspec": {
   "display_name": "Python 3",
   "language": "python",
   "name": "python3"
  },
  "language_info": {
   "codemirror_mode": {
    "name": "ipython",
    "version": 3
   },
   "file_extension": ".py",
   "mimetype": "text/x-python",
   "name": "python",
   "nbconvert_exporter": "python",
   "pygments_lexer": "ipython3",
   "version": "3.8.5"
  }
 },
 "nbformat": 4,
 "nbformat_minor": 4
}
