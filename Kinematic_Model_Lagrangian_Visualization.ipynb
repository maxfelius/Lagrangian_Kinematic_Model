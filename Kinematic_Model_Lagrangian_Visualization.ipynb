{
 "cells": [
  {
   "cell_type": "markdown",
   "metadata": {},
   "source": [
    "# Python Notebook Showing Different Visualization Options\n",
    "\n",
    "@author: Max Felius\n",
    "\n",
    "Notebook to show how to use the Lagrangian Kinematic Model Package\n",
    "\n",
    "NOTE: The script does not work interactively in Python Notebooks\n",
    "\n",
    "## Contents:\n",
    "- Visualization suffosion, Linear Time and Gaussian Influence Function\n",
    "- Visualization stoping, Linear Time and Gaussian Influence Function\n",
    "- Visualization suffosion, Polynomial Time and Gaussian Influence Function\n",
    "- Visualization stoping, Polynomial Time and Gaussian Influence Function\n",
    "- Visualization suffosion, Linear Time and Bals Influence Function\n",
    "- Visualization suffosion, Linear Time and Beyer Influence Function\n",
    "\n",
    "- Visualization Line of Sight, stoping, Linear Time and Gaussian Influence Function\n",
    "\n",
    "- Showing the Cross Section tool using stoping, Linear Time and Gaussian Influence Function\n",
    "\n",
    "## Handy Websites\n",
    "https://kapernikov.com/ipywidgets-with-matplotlib/"
   ]
  },
  {
   "cell_type": "code",
   "execution_count": 1,
   "metadata": {},
   "outputs": [],
   "source": [
    "#imports\n",
    "import numpy as np\n",
    "import sys\n",
    "from decouple import config #package to obscure my path\n",
    "\n",
    "#import package\n",
    "sys.path.extend([config('package')])\n",
    "\n",
    "#import the visualization package\n",
    "from Kinematic_Model.Visualization import visualization\n",
    "\n",
    "#global variables\n",
    "x0 = 25\n",
    "y0 = 25\n",
    "H = 10\n",
    "H_min = 3\n",
    "M = 2\n",
    "w = 10\n",
    "draw = 35\n",
    "nx = 30\n",
    "x_range = np.linspace(15,35,nx)\n",
    "y_range = np.linspace(15,35,nx)\n",
    "\n",
    "t = np.arange(0,10,1)\n",
    "time_type = 'poly'\n",
    "\n",
    "obj = visualization(x0,y0,H,H_min,M,w,draw,x_range,y_range,t,time_type)"
   ]
  },
  {
   "cell_type": "markdown",
   "metadata": {},
   "source": [
    "## Visualization suffosion, Linear Time and Gaussian Influence Function"
   ]
  },
  {
   "cell_type": "code",
   "execution_count": 2,
   "metadata": {},
   "outputs": [],
   "source": [
    "%matplotlib qt\n",
    "\n",
    "obj.mechanism = 'suffosion'\n",
    "obj.time_type = 'linear'\n",
    "obj.obj.kz_type = 'Gaussian'\n",
    "\n",
    "obj.interactive_figure()"
   ]
  },
  {
   "cell_type": "markdown",
   "metadata": {},
   "source": [
    "## Visualization stoping, Linear Time and Gaussian Influence Function"
   ]
  },
  {
   "cell_type": "code",
   "execution_count": 10,
   "metadata": {},
   "outputs": [],
   "source": [
    "%matplotlib qt\n",
    "\n",
    "obj.mechanism = 'stoping'\n",
    "obj.time_type = 'linear'\n",
    "obj.obj.kz_type = 'Gaussian'\n",
    "\n",
    "obj.interactive_figure()"
   ]
  },
  {
   "cell_type": "markdown",
   "metadata": {},
   "source": [
    "## Visualization suffosion, Polynomial Time and Gaussian Influence Function"
   ]
  },
  {
   "cell_type": "code",
   "execution_count": null,
   "metadata": {},
   "outputs": [],
   "source": [
    "%matplotlib qt\n",
    "\n",
    "obj.mechanism = 'suffosion'\n",
    "obj.time_type = 'poly'\n",
    "obj.obj.kz_type = 'Gaussian'\n",
    "\n",
    "obj.interactive_figure()"
   ]
  },
  {
   "cell_type": "markdown",
   "metadata": {},
   "source": [
    "## Visualization stoping, Polynomial Time and Gaussian Influence Function"
   ]
  },
  {
   "cell_type": "code",
   "execution_count": null,
   "metadata": {},
   "outputs": [],
   "source": [
    "%matplotlib qt\n",
    "\n",
    "obj.mechanism = 'stoping'\n",
    "obj.time_type = 'poly'\n",
    "obj.obj.kz_type = 'Gaussian'\n",
    "\n",
    "obj.interactive_figure()"
   ]
  },
  {
   "cell_type": "markdown",
   "metadata": {},
   "source": [
    "## Visualization suffosion, Linear Time and Bals Influence Function"
   ]
  },
  {
   "cell_type": "code",
   "execution_count": null,
   "metadata": {},
   "outputs": [],
   "source": [
    "%matplotlib qt\n",
    "\n",
    "obj.mechanism = 'suffosion'\n",
    "obj.time_type = 'linear'\n",
    "obj.obj.kz_type = 'Bals'\n",
    "\n",
    "obj.interactive_figure()"
   ]
  },
  {
   "cell_type": "markdown",
   "metadata": {},
   "source": [
    "## Visualization suffosion, Linear Time and Beyer Influence Function"
   ]
  },
  {
   "cell_type": "code",
   "execution_count": null,
   "metadata": {},
   "outputs": [],
   "source": [
    "%matplotlib qt\n",
    "\n",
    "obj.mechanism = 'suffosion'\n",
    "obj.time_type = 'linear'\n",
    "obj.obj.kz_type = 'Beyer'\n",
    "\n",
    "obj.interactive_figure()"
   ]
  },
  {
   "cell_type": "markdown",
   "metadata": {},
   "source": [
    "## Visualization Line of Sight, stoping, Linear Time and Gaussian Influence Function"
   ]
  },
  {
   "cell_type": "code",
   "execution_count": 3,
   "metadata": {},
   "outputs": [],
   "source": [
    "%matplotlib qt\n",
    "\n",
    "obj.mechanism = 'stoping'\n",
    "obj.time_type = 'linear'\n",
    "obj.obj.kz_type = 'Gaussian'\n",
    "\n",
    "theta = np.deg2rad(45)\n",
    "alpha = np.deg2rad(190)\n",
    "\n",
    "obj.interactive_figure_los(theta,alpha) "
   ]
  },
  {
   "cell_type": "markdown",
   "metadata": {},
   "source": [
    "## Showing the Cross Section tool using stoping, Linear Time and Gaussian Influence Function"
   ]
  },
  {
   "cell_type": "code",
   "execution_count": 4,
   "metadata": {},
   "outputs": [],
   "source": [
    "%matplotlib qt\n",
    "\n",
    "obj.mechanism = 'stoping'\n",
    "obj.time_type = 'linear'\n",
    "obj.obj.kz_type = 'Gaussian'\n",
    "\n",
    "obj.cross_section_selector() "
   ]
  }
 ],
 "metadata": {
  "kernelspec": {
   "display_name": "Python 3",
   "language": "python",
   "name": "python3"
  },
  "language_info": {
   "codemirror_mode": {
    "name": "ipython",
    "version": 3
   },
   "file_extension": ".py",
   "mimetype": "text/x-python",
   "name": "python",
   "nbconvert_exporter": "python",
   "pygments_lexer": "ipython3",
   "version": "3.8.5"
  }
 },
 "nbformat": 4,
 "nbformat_minor": 4
}
