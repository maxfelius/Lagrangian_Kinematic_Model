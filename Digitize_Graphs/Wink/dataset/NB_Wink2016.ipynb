{
 "cells": [
  {
   "cell_type": "markdown",
   "metadata": {},
   "source": [
    "# Wink 2016 Analysis\n",
    "@author: Max Felius\n",
    "\n",
    "## Paper Reference:\n",
    "Kim, J. W., Lu, Z., & Degrandpre, K. (2016). Ongoing deformation of sinkholes in Wink, Texas, observed by time-series Sentinel-1A SAR interferometry (preliminary results). Remote Sensing, 8(4), 313.\n",
    "\n",
    "## Sinkhole parameters from the paper:\n",
    "- Results from the MSBAS processing indicate that the vertical deformation is the most dominant component in ground deformation around Wink sinkholes, ~80% of LOS InSAR measurements.\n",
    "- Displays a maximum subsidence of ~4cm in four months.\n",
    "- Maximum subsidence at a rate of up to ~13cm/year.\n",
    "- Deformation present already since 2009.\n",
    "- extent of the subsidence area has increased. \n",
    "\n",
    "## Model Fit Parameters:\n",
    "- Model: Okada, Y. (1985). Surface deformation due to shear and tensile faults in a half-space. Bulletin of the seismological society of America, 75(4), 1135-1154.\n",
    "- Simple elastic displacement (cavity roof deflation), homogeneous elastic half space\n",
    "- Source at 500 meter depth\n",
    "- Two-source model; source one 120 x 10m and source two 80 x 10 meter\n",
    "\n",
    "![](Wink2016.png)\n",
    "\n",
    "## Analyse\n",
    "- Apply inverse kinematic model using Gaussian Influence function and linear time. Estimate v(t) and R. Determine fit by RMS and Percentage of Model description; $100 \\cdot (1 - \\frac{\\sum |\\hat{e}|}{\\sum|y|})$.\n",
    "- Test Different influence functions\n",
    "- Test Mogi Model\n",
    "\n",
    "### References\n",
    "https://pubs.geoscienceworld.org/jeeg/article-abstract/17/2/75/139408 <br>\n",
    "https://www.tandfonline.com/doi/full/10.1080/19475701003648077 <br>\n",
    "https://pubs.geoscienceworld.org/ssa/bssa/article-abstract/75/4/1135/118782/Surface-deformation-due-to-shear-and-tensile?redirectedFrom=fulltext"
   ]
  },
  {
   "cell_type": "code",
   "execution_count": 8,
   "metadata": {},
   "outputs": [],
   "source": [
    "#imports\n",
    "import numpy as np\n",
    "import pandas as pd\n",
    "import matplotlib.pyplot as plt\n",
    "import sys, time, os\n",
    "import datetime\n",
    "import re"
   ]
  },
  {
   "cell_type": "code",
   "execution_count": 5,
   "metadata": {},
   "outputs": [],
   "source": [
    "#defining the different influence functions\n",
    "def zg(R,r,itype='gaus'):\n",
    "    if itype == 'gaus':\n",
    "        return zg_gaus(R,r)\n",
    "    elif itype == 'bals':\n",
    "        return zg_bals(R,r)\n",
    "    elif itype == 'beyer':\n",
    "        return zg_beyer(R,r)\n",
    "    else:\n",
    "        print(f'Unknown itype: {itype}.')\n",
    "\n",
    "def zg_gaus(R,r):\n",
    "    return (1/(R*R))*np.exp(-np.pi*(r**2/R**2))\n",
    "\n",
    "def zg_bals(H,r):\n",
    "#     r = np.sqrt((x-x0)**2 + (y-y0)**2)\n",
    "    zone = np.arctan(r/H)\n",
    "    return 1*(1/(1+r**2))*np.cos(zone)**2\n",
    "\n",
    "def zg_beyer(R,r):\n",
    "#     r = np.sqrt((x-x0)**2 + (y-y0)**2)\n",
    "    kz = ((3)/(np.pi*R**2))*(1-(r/R)**2)**2\n",
    "    kz[r>R] = 0\n",
    "    return kz"
   ]
  },
  {
   "cell_type": "markdown",
   "metadata": {},
   "source": [
    "## Inverse Kinematic Model\n",
    "\n",
    "Solve nonlinear Least Squares using the Gauss-Newton Method"
   ]
  },
  {
   "cell_type": "code",
   "execution_count": 113,
   "metadata": {},
   "outputs": [],
   "source": [
    "#defining the inverse model\n",
    "def inverse_kinematic_model(v,t,R,r,y):\n",
    "    '''\n",
    "    Non-Linear Least Squares for determining kinematic model parameters\n",
    "    \n",
    "    Input:\n",
    "    :type v: int\n",
    "    :type t: np.array(float)\n",
    "    :type R: int\n",
    "    :type r: np.array(float)\n",
    "    :type y: np.array(float)\n",
    "    \n",
    "    Output\n",
    "    :rtype R: int\n",
    "    :rtype v: int\n",
    "    '''\n",
    "    #maximum number of runs\n",
    "    n = 100000\n",
    "    \n",
    "    #initial values\n",
    "    Qyy = np.eye(len(r))\n",
    "    invQyy = np.linalg.inv(Qyy)\n",
    "    \n",
    "    #start the timer\n",
    "    start = time.time()\n",
    "    \n",
    "    for i in range(n):\n",
    "#         print(f'Beginning iteration {i+1}...')\n",
    "        #expected deformation\n",
    "        yhat = zg(R,r)\n",
    "        \n",
    "        #compute the difference in measured and computed subsidence\n",
    "        dy = y - yhat\n",
    "        \n",
    "        #defining the jacobian matrix\n",
    "        A1 = t*zg(R,r)\n",
    "        A2 = ((2*R**2 + 2*np.pi*r**2)/(R**3))*(v*t)*zg(R,r)\n",
    "           \n",
    "        J = np.array([A1,A2]).T\n",
    "        \n",
    "        Qxx = np.linalg.inv(J.T @ invQyy @ J)\n",
    "        dx = J.T @ invQyy @ dy\n",
    "        \n",
    "        v_old = v\n",
    "        R_old = R\n",
    "        v = v + dx[0]\n",
    "        R = R + dx[1]\n",
    "        \n",
    "        dx_hat = np.array([v_old-v,R_old-R]).T\n",
    "        \n",
    "        if dx_hat.T @ Qxx @ dx_hat < sys.float_info.epsilon:\n",
    "            print(f'Stopped at iteration {i+1}.\\nThe computed values are v={v} and R={R}.')\n",
    "            break\n",
    "    \n",
    "    if i == n-1:\n",
    "        print(f'Ended using the maximum number of iterations: {n}')\n",
    "    \n",
    "    print(f'The total runtime was: {time.time()-start} seconds.')\n",
    "    \n",
    "    return v, R"
   ]
  },
  {
   "cell_type": "code",
   "execution_count": 55,
   "metadata": {},
   "outputs": [],
   "source": [
    "data_folder = 'Wink2016'\n",
    "\n",
    "start_date = '20150421'\n",
    "start_date_datetime = datetime.datetime.strptime(start_date,'%Y%m%d')\n",
    "date_list = []\n",
    "delta_days = []\n",
    "data_list = []\n",
    "\n",
    "for date in os.listdir(data_folder):\n",
    "    #get the date from the title\n",
    "    m = re.search(r'\\d{8}',date)\n",
    "    date_conv = datetime.datetime.strptime(m.group(0),'%Y%m%d')\n",
    "    date_list.append(date_conv)\n",
    "    \n",
    "    #Determine the number of days since the start date\n",
    "    delta_days.append((date_conv-start_date_datetime).days)\n",
    "\n",
    "    #Read the data from the files\n",
    "    data_list.append(pd.read_csv(os.path.join(data_folder,date),header=None))"
   ]
  },
  {
   "cell_type": "code",
   "execution_count": 103,
   "metadata": {
    "scrolled": false
   },
   "outputs": [],
   "source": [
    "#extract x and z coordinates and define t\n",
    "x = np.array([])\n",
    "y = np.array([])\n",
    "t = np.array([])\n",
    "for idx,item in enumerate(data_list):\n",
    "    n = len(item)\n",
    "    t = np.concatenate((t,[delta_days[idx]]*n))\n",
    "    x = np.concatenate((x,item[0].values))\n",
    "    y = np.concatenate((y,item[1].values))\n",
    "\n",
    "y = y/100 #convert from cm to meters    \n",
    "\n",
    "#define r\n",
    "x0 = 480 #observed from the graph\n",
    "r = np.sqrt((x-x0)**2)"
   ]
  },
  {
   "cell_type": "code",
   "execution_count": 114,
   "metadata": {},
   "outputs": [
    {
     "name": "stdout",
     "output_type": "stream",
     "text": [
      "Ended using the maximum number of iterations: 100000\n",
      "The total runtime was: 24.35619592666626 seconds.\n",
      "-117.17437274576193 489.86797722246854\n"
     ]
    }
   ],
   "source": [
    "v_in = 100\n",
    "R_in = 480\n",
    "\n",
    "v, R = inverse_kinematic_model(v_in,t,R_in,r,y)\n",
    "\n",
    "print(v,R)"
   ]
  },
  {
   "cell_type": "code",
   "execution_count": 108,
   "metadata": {},
   "outputs": [
    {
     "data": {
      "text/plain": [
       "2.202122986940969"
      ]
     },
     "execution_count": 108,
     "metadata": {},
     "output_type": "execute_result"
    }
   ],
   "source": [
    "#plot the results"
   ]
  },
  {
   "cell_type": "code",
   "execution_count": null,
   "metadata": {},
   "outputs": [],
   "source": []
  },
  {
   "cell_type": "code",
   "execution_count": null,
   "metadata": {},
   "outputs": [],
   "source": []
  }
 ],
 "metadata": {
  "kernelspec": {
   "display_name": "Python 3",
   "language": "python",
   "name": "python3"
  },
  "language_info": {
   "codemirror_mode": {
    "name": "ipython",
    "version": 3
   },
   "file_extension": ".py",
   "mimetype": "text/x-python",
   "name": "python",
   "nbconvert_exporter": "python",
   "pygments_lexer": "ipython3",
   "version": "3.9.0"
  }
 },
 "nbformat": 4,
 "nbformat_minor": 4
}
