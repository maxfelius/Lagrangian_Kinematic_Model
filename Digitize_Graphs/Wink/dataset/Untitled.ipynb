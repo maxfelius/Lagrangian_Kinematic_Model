{
 "cells": [
  {
   "cell_type": "markdown",
   "metadata": {},
   "source": [
    "# Wink 2016 Analysis\n",
    "@author: Max Felius\n",
    "\n",
    "## Paper Reference:\n",
    "Kim, J. W., Lu, Z., & Degrandpre, K. (2016). Ongoing deformation of sinkholes in Wink, Texas, observed by time-series Sentinel-1A SAR interferometry (preliminary results). Remote Sensing, 8(4), 313.\n",
    "\n",
    "## Sinkhole parameters from the paper:\n",
    "- Results from the MSBAS processing indicate that the vertical deformation is the most dominant component in ground deformation around Wink sinkholes, ~80% of LOS InSAR measurements.\n",
    "- Displays a maximum subsidence of ~4cm in four months.\n",
    "- Maximum subsidence at a rate of up to ~13cm/year.\n",
    "- Deformation present already since 2009.\n",
    "- extent of the subsidence area has increased. \n",
    "\n",
    "## Model Fit Parameters:\n",
    "- Model: Okada, Y. (1985). Surface deformation due to shear and tensile faults in a half-space. Bulletin of the seismological society of America, 75(4), 1135-1154.\n",
    "- Simple elastic displacement (cavity roof deflation), homogeneous elastic half space\n",
    "- Source at 500 meter depth\n",
    "- Two-source model; source one 120 x 10m and source two 80 x 10 meter\n",
    "\n",
    "![](Wink2016.png)\n",
    "\n",
    "## Analyse\n",
    "- Apply inverse kinematic model using Gaussian Influence function and linear time. Estimate v(t) and R. Determine fit by RMS and Percentage of Model description; $100 \\cdot (1 - \\frac{\\sum |\\hat{e}|}{\\sum|y|})$.\n",
    "- Test Different influence functions\n",
    "- Test Mogi Model\n",
    "\n",
    "### References\n",
    "https://pubs.geoscienceworld.org/jeeg/article-abstract/17/2/75/139408\n",
    "https://www.tandfonline.com/doi/full/10.1080/19475701003648077\n",
    "https://pubs.geoscienceworld.org/ssa/bssa/article-abstract/75/4/1135/118782/Surface-deformation-due-to-shear-and-tensile?redirectedFrom=fulltext"
   ]
  },
  {
   "cell_type": "code",
   "execution_count": null,
   "metadata": {},
   "outputs": [],
   "source": [
    "#imports\n",
    "import numpy as np\n",
    "import pandas as pd\n",
    "import matplotlib.pyplot as plt\n",
    "import sys, time, os"
   ]
  },
  {
   "cell_type": "code",
   "execution_count": 2,
   "metadata": {},
   "outputs": [],
   "source": [
    "#defining the different influence functions\n",
    "def zg(R,r,itype='gaus'):\n",
    "    if itype == 'gaus':\n",
    "        return zg_gaus(R,r)\n",
    "    elif itype == 'bals':\n",
    "        return zg_bals(R,r)\n",
    "    elif itype == 'beyer':\n",
    "        return zg_beyer(R,r)\n",
    "    else:\n",
    "        print(f'Unknown itype: {itype}.')\n",
    "\n",
    "def zg_gaus(R,r):\n",
    "    return -(1/(R*R))*np.exp(-np.pi*(r**2/R**2)\n",
    "\n",
    "def zg_bals(H,r):\n",
    "#     r = np.sqrt((x-x0)**2 + (y-y0)**2)\n",
    "    zone = np.arctan(r/H)\n",
    "    return -1*(1/(1+r**2))*np.cos(zone)**2\n",
    "\n",
    "def zg_beyer(R,r):\n",
    "#     r = np.sqrt((x-x0)**2 + (y-y0)**2)\n",
    "    kz = -((3)/(np.pi*R**2))*(1-(r/R)**2)**2\n",
    "    kz[r>R] = 0\n",
    "    return kz"
   ]
  },
  {
   "cell_type": "markdown",
   "metadata": {},
   "source": [
    "## Inverse Kinematic Model\n",
    "\n",
    "Solve nonlinear Least Squares using the Gauss-Newton Method"
   ]
  },
  {
   "cell_type": "code",
   "execution_count": 3,
   "metadata": {},
   "outputs": [
    {
     "ename": "SyntaxError",
     "evalue": "invalid syntax (<ipython-input-3-a3d07eee7d10>, line 2)",
     "output_type": "error",
     "traceback": [
      "\u001b[0;36m  File \u001b[0;32m\"<ipython-input-3-a3d07eee7d10>\"\u001b[0;36m, line \u001b[0;32m2\u001b[0m\n\u001b[0;31m    def inverse_kinematic_model(v,t,R,r,y)\u001b[0m\n\u001b[0m                                          ^\u001b[0m\n\u001b[0;31mSyntaxError\u001b[0m\u001b[0;31m:\u001b[0m invalid syntax\n"
     ]
    }
   ],
   "source": [
    "#defining the inverse model\n",
    "def inverse_kinematic_model(v,t,R,r,y)\n",
    "    '''\n",
    "    Non-Linear Least Squares for determining kinematic model parameters\n",
    "    \n",
    "    Input:\n",
    "    :type v: int\n",
    "    :type t: np.array(float)\n",
    "    :type R: int\n",
    "    :type r: np.array(float)\n",
    "    :type y: np.array(float)\n",
    "    \n",
    "    Output\n",
    "    :rtype R: int\n",
    "    :rtype v: int\n",
    "    '''\n",
    "    \n",
    "    #initial values\n",
    "    Qyy = np.eye(len(r))\n",
    "    \n",
    "    while True:\n",
    "        #expected deformation\n",
    "        yhat = zg(R,r)\n",
    "        \n",
    "        dy = y - yhat\n",
    "        \n",
    "        "
   ]
  },
  {
   "cell_type": "code",
   "execution_count": null,
   "metadata": {},
   "outputs": [],
   "source": []
  },
  {
   "cell_type": "code",
   "execution_count": null,
   "metadata": {},
   "outputs": [],
   "source": []
  }
 ],
 "metadata": {
  "kernelspec": {
   "display_name": "Python 3",
   "language": "python",
   "name": "python3"
  },
  "language_info": {
   "codemirror_mode": {
    "name": "ipython",
    "version": 3
   },
   "file_extension": ".py",
   "mimetype": "text/x-python",
   "name": "python",
   "nbconvert_exporter": "python",
   "pygments_lexer": "ipython3",
   "version": "3.8.5"
  }
 },
 "nbformat": 4,
 "nbformat_minor": 4
}
