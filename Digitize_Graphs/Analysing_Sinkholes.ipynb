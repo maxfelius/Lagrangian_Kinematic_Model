{
 "cells": [
  {
   "cell_type": "markdown",
   "metadata": {},
   "source": [
    "# Analysing Digitised Sinkholes and retrieving subsidence parameters\n",
    "@author: Max Felius <br>\n",
    "@date: 25/11/2020\n",
    "\n",
    "GOAL: Retrieving sinkhole parameters and a measure of how good the fit is.\n",
    "\n",
    "## Sinkholes\n",
    "\n",
    "### Wink\n",
    "- Wink 2016\n",
    "- Wink 2019\n",
    "\n",
    "### Deadsea\n",
    "- Baer 2018 1\n",
    "- Baer 2018 2\n",
    "- Baer 2018 3\n",
    "- Nof 2013\n",
    "- Nof 2019"
   ]
  },
  {
   "cell_type": "code",
   "execution_count": 1,
   "metadata": {},
   "outputs": [],
   "source": [
    "#main imports\n",
    "import numpy as np\n",
    "import pandas as pd\n",
    "import os,sys,time\n",
    "import datetime"
   ]
  },
  {
   "cell_type": "markdown",
   "metadata": {},
   "source": [
    "## Wink 2016\n",
    "\n",
    "![](Wink/dataset/Wink2016.png)\n",
    "\n",
    "### Characteristics Described in the Paper\n"
   ]
  },
  {
   "cell_type": "code",
   "execution_count": null,
   "metadata": {},
   "outputs": [],
   "source": [
    "#main folder\n",
    "main_data_foler = ''\n",
    "\n",
    "#Reading the datasets\n",
    "folder_items = os.listdir(main_data_folder)\n",
    "folder_items = sorted(folder_items) #sort for the dates to be in the correct order\n",
    "\n",
    "data_list = []\n",
    "\n",
    "for item in folder_items:\n",
    "    if item.endswith('.csv'):\n",
    "        data_list.append(pd.read_csv(item,header=None))\n",
    "        \n",
    "#TODO: - Check if header is indeed ignored\n",
    "\n"
   ]
  },
  {
   "cell_type": "code",
   "execution_count": null,
   "metadata": {},
   "outputs": [],
   "source": []
  },
  {
   "cell_type": "code",
   "execution_count": null,
   "metadata": {},
   "outputs": [],
   "source": []
  }
 ],
 "metadata": {
  "kernelspec": {
   "display_name": "Python 3",
   "language": "python",
   "name": "python3"
  },
  "language_info": {
   "codemirror_mode": {
    "name": "ipython",
    "version": 3
   },
   "file_extension": ".py",
   "mimetype": "text/x-python",
   "name": "python",
   "nbconvert_exporter": "python",
   "pygments_lexer": "ipython3",
   "version": "3.8.5"
  }
 },
 "nbformat": 4,
 "nbformat_minor": 4
}
